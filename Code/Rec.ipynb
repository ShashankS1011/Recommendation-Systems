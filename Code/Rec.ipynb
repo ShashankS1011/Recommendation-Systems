{
  "cells": [
    {
      "cell_type": "code",
      "execution_count": null,
      "metadata": {
        "colab": {
          "base_uri": "https://localhost:8080/"
        },
        "id": "tLGM441nOMk6",
        "outputId": "aa73f398-4ddf-4150-d4c7-01ca00bdc0bd"
      },
      "outputs": [
        {
          "output_type": "stream",
          "name": "stdout",
          "text": [
            "Collecting annoy\n",
            "  Downloading annoy-1.17.3.tar.gz (647 kB)\n",
            "\u001b[?25l     \u001b[90m━━━━━━━━━━━━━━━━━━━━━━━━━━━━━━━━━━━━━━━━\u001b[0m \u001b[32m0.0/647.5 kB\u001b[0m \u001b[31m?\u001b[0m eta \u001b[36m-:--:--\u001b[0m\r\u001b[2K     \u001b[91m━━━━━━━━━\u001b[0m\u001b[90m╺\u001b[0m\u001b[90m━━━━━━━━━━━━━━━━━━━━━━━━━━━━━━\u001b[0m \u001b[32m153.6/647.5 kB\u001b[0m \u001b[31m4.2 MB/s\u001b[0m eta \u001b[36m0:00:01\u001b[0m\r\u001b[2K     \u001b[90m━━━━━━━━━━━━━━━━━━━━━━━━━━━━━━━━━━━━━━━━\u001b[0m \u001b[32m647.5/647.5 kB\u001b[0m \u001b[31m9.0 MB/s\u001b[0m eta \u001b[36m0:00:00\u001b[0m\n",
            "\u001b[?25h  Preparing metadata (setup.py) ... \u001b[?25l\u001b[?25hdone\n",
            "Building wheels for collected packages: annoy\n",
            "  Building wheel for annoy (setup.py) ... \u001b[?25l\u001b[?25hdone\n",
            "  Created wheel for annoy: filename=annoy-1.17.3-cp310-cp310-linux_x86_64.whl size=552449 sha256=1a2be6b1eeeedaeb504f9c019b3fdbe2e4a2bd8cb211715aceab282543603511\n",
            "  Stored in directory: /root/.cache/pip/wheels/64/8a/da/f714bcf46c5efdcfcac0559e63370c21abe961c48e3992465a\n",
            "Successfully built annoy\n",
            "Installing collected packages: annoy\n",
            "Successfully installed annoy-1.17.3\n"
          ]
        }
      ],
      "source": [
        "pip install annoy"
      ]
    },
    {
      "cell_type": "markdown",
      "source": [
        "1. **Personalized Recommendation Weighting:**\n",
        "    The first script uses a weighted combination of collaborative filtering, BERT embeddings, and ALS recommendations, allowing flexibility in fine-tuning the recommendation system.\n",
        "    The weights (collaborative, bert, als) can be adjusted for each approach, which is valuable for balancing different recommendation sources.\n",
        "\n",
        "2. **Mapped Place Names:**\n",
        "    The first script maps Type of Place IDs to actual place names for more user-friendly recommendations.\n",
        "    This extra layer of interpretation makes the output more understandable and accessible.\n",
        "\n",
        "3. **Diversity Score Calculation:**\n",
        "    The first approach includes a placeholder for calculating the diversity of recommendations. Although it's a dummy function here, this feature could help improve the recommendation quality by ensuring a diverse set of results.\n",
        "4. **Improved BERT Embeddings Integration:**\n",
        "    Both approaches use BERT embeddings to provide semantic recommendations, but the first one explicitly builds on this by constructing an Annoy index and offering nearest-neighbor search.\n",
        "    This integration provides better exploration of similar places based on the embeddings, improving the depth of recommendations.\n",
        "\n",
        "5. **Error Handling:**\n",
        "    The first script has additional checks to handle cases where user_id might not be in the user_item_matrix index, which prevents errors and enhances robustness."
      ],
      "metadata": {
        "id": "bSC_1LZCwwvF"
      }
    },
    {
      "cell_type": "code",
      "execution_count": null,
      "metadata": {
        "colab": {
          "base_uri": "https://localhost:8080/"
        },
        "id": "13faweWAbOl6",
        "outputId": "0affc001-7e99-4a25-ce93-b056d7e2bf00"
      },
      "outputs": [
        {
          "output_type": "stream",
          "name": "stderr",
          "text": [
            "Some weights of the PyTorch model were not used when initializing the TF 2.0 model TFDistilBertModel: ['vocab_transform.weight', 'vocab_transform.bias', 'vocab_layer_norm.bias', 'vocab_projector.bias', 'vocab_layer_norm.weight']\n",
            "- This IS expected if you are initializing TFDistilBertModel from a PyTorch model trained on another task or with another architecture (e.g. initializing a TFBertForSequenceClassification model from a BertForPreTraining model).\n",
            "- This IS NOT expected if you are initializing TFDistilBertModel from a PyTorch model that you expect to be exactly identical (e.g. initializing a TFBertForSequenceClassification model from a BertForSequenceClassification model).\n",
            "All the weights of TFDistilBertModel were initialized from the PyTorch model.\n",
            "If your task is similar to the task the model of the checkpoint was trained on, you can already use TFDistilBertModel for predictions without further training.\n"
          ]
        },
        {
          "output_type": "stream",
          "name": "stdout",
          "text": [
            "Personalized and Diverse Recommendations for user 3: ['Jhansi Fort', 'Nahan Hill Station', 'Delhi Haat', 'Nainital Lake', 'Rashtrapati Bhavan', 'Gandhi Museum']\n",
            "Diversity Score: 0.50\n"
          ]
        }
      ],
      "source": [
        "# Import necessary libraries\n",
        "import pandas as pd\n",
        "import numpy as np\n",
        "import transformers\n",
        "from annoy import AnnoyIndex\n",
        "\n",
        "# Load the merged dataset\n",
        "df_merged_pandas = pd.read_csv('/content/Tourist_dataset_with_user_id.csv')\n",
        "\n",
        "# Check and fill missing values in the 'reviewTitle' column\n",
        "df_merged_pandas['user_id'] = df_merged_pandas['user_id'].fillna('')\n",
        "\n",
        "# Collaborative Filtering Setup (assuming 'Ratings' and 'user_id' exist)\n",
        "user_item_matrix = pd.pivot_table(df_merged_pandas, values='Ratings', index='user_id', columns='Type of Place').fillna(0)\n",
        "\n",
        "# BERT Embeddings Setup\n",
        "pretrained_weights = 'distilbert-base-uncased'\n",
        "tokenizer = transformers.DistilBertTokenizer.from_pretrained(pretrained_weights)\n",
        "bert_model = transformers.TFDistilBertModel.from_pretrained(pretrained_weights)\n",
        "\n",
        "# Tokenize 'Type of Place' for BERT embeddings\n",
        "tokenized_descriptions = df_merged_pandas['Type of Place'].apply(lambda x: tokenizer.encode(x, add_special_tokens=True))\n",
        "maxlen = 40  # Adjust maxlen based on BERT's max input length\n",
        "\n",
        "# Padding the tokenized descriptions\n",
        "for i, token in enumerate(tokenized_descriptions):\n",
        "    if len(token) >= maxlen:\n",
        "        token = token[:maxlen]\n",
        "    else:\n",
        "        token = token + [0] * (maxlen - len(token))\n",
        "    tokenized_descriptions[i] = list(token)\n",
        "tokenized_descriptions = np.array(list(tokenized_descriptions))\n",
        "\n",
        "# Function to generate recommendations with personalized weighting and correct name mapping\n",
        "def generate_recommendations(user_id, top_n=5, weights={'collaborative': 0.4, 'bert': 0.4, 'als': 0.2}):\n",
        "    if user_id not in user_item_matrix.index:\n",
        "        return f\"No data for user_id {user_id}\"\n",
        "\n",
        "    # Construct a correct mapping from Type_of_Place_ID to Place Name.\n",
        "    id_to_name_map = dict(zip(df_merged_pandas['Type of Place'], df_merged_pandas['Name of the Place']))\n",
        "\n",
        "    # Collaborative Filtering Recommendations (by ID)\n",
        "    user_interactions = user_item_matrix.loc[user_id]\n",
        "    collaborative_recommendations = user_interactions[user_interactions == 0].index.tolist()[:top_n]\n",
        "\n",
        "    # BERT Embeddings-based Recommendations (by ID)\n",
        "    product_ids = df_merged_pandas['Type of Place'].tolist()\n",
        "    description_embeddings = get_bert_embeddings(tokenized_descriptions)\n",
        "    annoy_index = build_annoy_index(description_embeddings)\n",
        "\n",
        "    bert_recommendations = []\n",
        "    for item_id in collaborative_recommendations:\n",
        "        if item_id in product_ids:\n",
        "            idx = product_ids.index(item_id)\n",
        "            similar_items = annoy_index.get_nns_by_vector(description_embeddings[idx], top_n + 1)[1:]\n",
        "            similar_item_ids = [product_ids[i] for i in similar_items]\n",
        "            bert_recommendations.extend(similar_item_ids)\n",
        "\n",
        "    # ALS Recommendations (mapping numeric IDs to names)\n",
        "    als_recommendations = get_als_recommendations(user_id, top_n)\n",
        "\n",
        "    # Combine recommendations and calculate weighted score\n",
        "    recommendation_scores = {}\n",
        "\n",
        "    # Adding weights to collaborative recommendations\n",
        "    for rec in collaborative_recommendations:\n",
        "        recommendation_scores[rec] = recommendation_scores.get(rec, 0) + weights['collaborative']\n",
        "\n",
        "    # Adding weights to BERT recommendations\n",
        "    for rec in bert_recommendations:\n",
        "        recommendation_scores[rec] = recommendation_scores.get(rec, 0) + weights['bert']\n",
        "\n",
        "    # Adding weights to ALS recommendations\n",
        "    for rec in als_recommendations:\n",
        "        recommendation_scores[rec] = recommendation_scores.get(rec, 0) + weights['als']\n",
        "\n",
        "    # Sort recommendations by weighted score and select top_n\n",
        "    sorted_recommendations = sorted(recommendation_scores, key=recommendation_scores.get, reverse=True)[:top_n]\n",
        "\n",
        "    # Convert IDs to Place Names using the id_to_name_map\n",
        "    sorted_recommendations_names = []\n",
        "    for rec in sorted_recommendations:\n",
        "        # Check if the rec is in the mapping, otherwise return 'Unknown Place'\n",
        "        place_name = id_to_name_map.get(rec, 'Unknown Place')\n",
        "        sorted_recommendations_names.append(place_name)\n",
        "\n",
        "    # Calculate diversity\n",
        "    diversity_score = calculate_diversity(sorted_recommendations, df_merged_pandas, top_n)\n",
        "\n",
        "    return sorted_recommendations_names, diversity_score\n",
        "\n",
        "# Function to get BERT embeddings\n",
        "def get_bert_embeddings(input_ids):\n",
        "    last_hidden_states = bert_model(input_ids)[0][:, 1:maxlen + 1, :]\n",
        "    return np.mean(last_hidden_states.numpy(), axis=1)\n",
        "\n",
        "# Function to build Annoy index for embeddings\n",
        "def build_annoy_index(embeddings):\n",
        "    embedding_size = embeddings.shape[1]\n",
        "    t = AnnoyIndex(embedding_size, 'euclidean')\n",
        "    for i, embedding in enumerate(embeddings):\n",
        "        t.add_item(i, embedding)\n",
        "    t.build(100)  # Using 100 trees\n",
        "    return t\n",
        "\n",
        "# ALS Recommendations function (dummy function for now)\n",
        "def get_als_recommendations(user_id, top_n):\n",
        "    # For now, let's return a list of IDs from ALS (you would implement ALS logic here)\n",
        "    return [7, 1, 11, 0, 9]\n",
        "\n",
        "# Diversity Calculation function (dummy function for now)\n",
        "def calculate_diversity(recommendations, df, top_n):\n",
        "    # Dummy function to calculate diversity, you can use any formula you prefer\n",
        "    return 0.5  # Example diversity score\n",
        "\n",
        "# Example Usage\n",
        "user_id = 3  # Replace with the actual user ID\n",
        "top_n = 6  # Number of recommendations\n",
        "recommended_items, diversity_score = generate_recommendations(user_id, top_n)\n",
        "print(f\"Personalized and Diverse Recommendations for user {user_id}: {recommended_items}\")\n",
        "print(f\"Diversity Score: {diversity_score:.2f}\")"
      ]
    },
    {
      "cell_type": "code",
      "source": [
        "# Load the ground truth data (test.csv containing user_id and Name of the Place)\n",
        "test_df = pd.read_csv('/content/test.csv')\n",
        "\n",
        "# Extract the ground truth places for user_id = 3\n",
        "ground_truth_places = test_df[test_df['user_id'] == 3]['Name of the place'].tolist()\n",
        "\n",
        "# Generate recommendations for user_id = 3 using your generate_recommendations function\n",
        "recommended_items, _ = generate_recommendations(user_id=3, top_n=6)\n",
        "\n",
        "# Calculate accuracy\n",
        "correct_recommendations = set(recommended_items) & set(ground_truth_places)\n",
        "accuracy = len(correct_recommendations) / len(recommended_items) if recommended_items else 0\n",
        "\n",
        "# Output the accuracy\n",
        "print(f\"Accuracy for the recommendations for user 3: {accuracy:.2f}\")"
      ],
      "metadata": {
        "colab": {
          "base_uri": "https://localhost:8080/"
        },
        "id": "g8tnw0SUzmbb",
        "outputId": "c1dbcb49-3238-46d2-8105-423ed84d7cdd"
      },
      "execution_count": null,
      "outputs": [
        {
          "output_type": "stream",
          "name": "stdout",
          "text": [
            "Accuracy for the recommendations for user 3: 0.83\n"
          ]
        }
      ]
    },
    {
      "cell_type": "markdown",
      "source": [
        "# **Collaborative Filtering**"
      ],
      "metadata": {
        "id": "gVZW36LP1eRW"
      }
    },
    {
      "cell_type": "code",
      "execution_count": null,
      "metadata": {
        "colab": {
          "base_uri": "https://localhost:8080/"
        },
        "id": "-djQ1J1IngbB",
        "outputId": "fd175604-19aa-47e4-f4b1-ea09030091a0"
      },
      "outputs": [
        {
          "output_type": "stream",
          "name": "stdout",
          "text": [
            "Collaborative Filtering Recommendations: ['Kumarakom Bird Sanctuary', 'Delhi Haat', 'Rashtrapati Bhavan', 'Nahan Hill Station', 'Nainital Lake']\n"
          ]
        }
      ],
      "source": [
        "# Import libraries\n",
        "import pandas as pd\n",
        "import numpy as np\n",
        "\n",
        "# Load dataset\n",
        "df_merged_pandas = pd.read_csv('/content/Tourist_dataset_with_user_id.csv')\n",
        "\n",
        "# Mapping Type of Place to Name of the Place\n",
        "type_to_name_map = dict(zip(df_merged_pandas['Type of Place'], df_merged_pandas['Name of the Place']))\n",
        "\n",
        "# Create the user-item matrix for collaborative filtering\n",
        "user_item_matrix = pd.pivot_table(df_merged_pandas, values='Ratings', index='user_id', columns='Type of Place').fillna(0)\n",
        "\n",
        "# Collaborative Filtering Recommendations Function (by Place Name)\n",
        "def collaborative_filtering_recommendations(user_id, top_n=5):\n",
        "    if user_id not in user_item_matrix.index:\n",
        "        return f\"No data for user_id {user_id}\"\n",
        "\n",
        "    # Get the user's interactions\n",
        "    user_interactions = user_item_matrix.loc[user_id]\n",
        "\n",
        "    # Recommend items the user hasn't rated (ratings == 0) up to top_n\n",
        "    collaborative_recommendations = user_interactions[user_interactions == 0].index.tolist()[:top_n]\n",
        "\n",
        "    # Convert Type of Place IDs to Place Names\n",
        "    place_names = [type_to_name_map.get(place_type, 'Unknown Place') for place_type in collaborative_recommendations]\n",
        "\n",
        "    return place_names\n",
        "\n",
        "# Example usage\n",
        "user_id = 3  # Replace with the actual user ID\n",
        "top_n = 5  # Number of recommendations\n",
        "print(\"Collaborative Filtering Recommendations:\", collaborative_filtering_recommendations(user_id, top_n))\n"
      ]
    },
    {
      "cell_type": "code",
      "source": [
        "# Load ground truth data (test.csv)\n",
        "test_df = pd.read_csv('/content/test.csv')\n",
        "\n",
        "# Get the ground truth places for user_id = 3\n",
        "ground_truth_places = test_df[test_df['user_id'] == 3]['Name of the place'].tolist()\n",
        "\n",
        "# Get the collaborative filtering recommendations for user_id = 3\n",
        "recommended_places = collaborative_filtering_recommendations(user_id=3, top_n=5)\n",
        "\n",
        "# Calculate accuracy\n",
        "if recommended_places != f\"No data for user_id {user_id}\":\n",
        "    # Calculate the intersection between recommended and ground truth places\n",
        "    correct_recommendations = set(recommended_places) & set(ground_truth_places)\n",
        "    accuracy = len(correct_recommendations) / len(recommended_places) if recommended_places else 0\n",
        "else:\n",
        "    accuracy = 0\n",
        "\n",
        "print(f\"Accuracy for user 3's recommendations: {accuracy:.2f}\")"
      ],
      "metadata": {
        "colab": {
          "base_uri": "https://localhost:8080/"
        },
        "id": "a9LU3QMK1lps",
        "outputId": "8666df89-8323-4b51-c991-8ddffdb52d1f"
      },
      "execution_count": null,
      "outputs": [
        {
          "output_type": "stream",
          "name": "stdout",
          "text": [
            "Accuracy for user 3's recommendations: 0.20\n"
          ]
        }
      ]
    },
    {
      "cell_type": "markdown",
      "source": [
        "# **DistilBERT**"
      ],
      "metadata": {
        "id": "Mfroyy-O10OX"
      }
    },
    {
      "cell_type": "code",
      "execution_count": null,
      "metadata": {
        "colab": {
          "base_uri": "https://localhost:8080/"
        },
        "id": "pV7wjsdXoGdK",
        "outputId": "3b92e045-1342-4b98-a584-5dd1b9e01166"
      },
      "outputs": [
        {
          "output_type": "stream",
          "name": "stderr",
          "text": [
            "Some weights of the PyTorch model were not used when initializing the TF 2.0 model TFDistilBertModel: ['vocab_transform.weight', 'vocab_transform.bias', 'vocab_layer_norm.bias', 'vocab_projector.bias', 'vocab_layer_norm.weight']\n",
            "- This IS expected if you are initializing TFDistilBertModel from a PyTorch model trained on another task or with another architecture (e.g. initializing a TFBertForSequenceClassification model from a BertForPreTraining model).\n",
            "- This IS NOT expected if you are initializing TFDistilBertModel from a PyTorch model that you expect to be exactly identical (e.g. initializing a TFBertForSequenceClassification model from a BertForSequenceClassification model).\n",
            "All the weights of TFDistilBertModel were initialized from the PyTorch model.\n",
            "If your task is similar to the task the model of the checkpoint was trained on, you can already use TFDistilBertModel for predictions without further training.\n"
          ]
        },
        {
          "output_type": "stream",
          "name": "stdout",
          "text": [
            "BERT Embedding Recommendations: ['Nainital Lake', 'Nainital Lake', 'Nainital Lake', 'Nainital Lake', 'Kuttanadu Backwaters']\n"
          ]
        }
      ],
      "source": [
        "# Import libraries\n",
        "import numpy as np\n",
        "from transformers import DistilBertTokenizer, TFDistilBertModel\n",
        "from annoy import AnnoyIndex\n",
        "\n",
        "# Load the BERT model and tokenizer\n",
        "pretrained_weights = 'distilbert-base-uncased'\n",
        "tokenizer = DistilBertTokenizer.from_pretrained(pretrained_weights)\n",
        "bert_model = TFDistilBertModel.from_pretrained(pretrained_weights)\n",
        "\n",
        "# Tokenize and encode 'Type of Place' for BERT embeddings\n",
        "maxlen = 40  # Adjust maxlen based on BERT's max input length\n",
        "tokenized_descriptions = df_merged_pandas['Type of Place'].apply(lambda x: tokenizer.encode(x, add_special_tokens=True))\n",
        "tokenized_descriptions = np.array([tokens + [0] * (maxlen - len(tokens)) if len(tokens) < maxlen else tokens[:maxlen] for tokens in tokenized_descriptions])\n",
        "\n",
        "# Function to get BERT embeddings\n",
        "def get_bert_embeddings(input_ids):\n",
        "    last_hidden_states = bert_model(input_ids)[0][:, 1:maxlen + 1, :]\n",
        "    return np.mean(last_hidden_states.numpy(), axis=1)\n",
        "\n",
        "# Generate BERT embeddings\n",
        "description_embeddings = get_bert_embeddings(tokenized_descriptions)\n",
        "\n",
        "# Build Annoy index for embeddings\n",
        "def build_annoy_index(embeddings):\n",
        "    embedding_size = embeddings.shape[1]\n",
        "    t = AnnoyIndex(embedding_size, 'euclidean')\n",
        "    for i, embedding in enumerate(embeddings):\n",
        "        t.add_item(i, embedding)\n",
        "    t.build(100)  # Using 100 trees\n",
        "    return t\n",
        "\n",
        "# Create Annoy index\n",
        "annoy_index = build_annoy_index(description_embeddings)\n",
        "\n",
        "# BERT-based Recommendations Function (by Place Name)\n",
        "def bert_based_recommendations(user_id, top_n=5):\n",
        "    if user_id not in user_item_matrix.index:\n",
        "        return f\"No data for user_id {user_id}\"\n",
        "\n",
        "    # Get places the user has not rated\n",
        "    user_interactions = user_item_matrix.loc[user_id]\n",
        "    unrated_places = user_interactions[user_interactions == 0].index.tolist()\n",
        "\n",
        "    # Recommend similar places for each unrated place\n",
        "    place_names = []\n",
        "    for place_type in unrated_places[:top_n]:\n",
        "        idx = df_merged_pandas[df_merged_pandas['Type of Place'] == place_type].index[0]\n",
        "        similar_items = annoy_index.get_nns_by_vector(description_embeddings[idx], top_n + 1)[1:]\n",
        "        similar_place_names = [type_to_name_map.get(df_merged_pandas.iloc[i]['Type of Place'], 'Unknown Place') for i in similar_items]\n",
        "        place_names.extend(similar_place_names)\n",
        "\n",
        "    return place_names[:top_n]\n",
        "\n",
        "# Example usage\n",
        "user_id = 4  # Replace with the actual user ID\n",
        "top_n = 5  # Number of recommendations\n",
        "print(\"BERT Embedding Recommendations:\", bert_based_recommendations(user_id, top_n))"
      ]
    },
    {
      "cell_type": "code",
      "source": [
        "# Load the ground truth data (test.csv)\n",
        "test_df = pd.read_csv('/content/test.csv')\n",
        "\n",
        "# Get the ground truth places for user_id = 3\n",
        "ground_truth_places = test_df[test_df['user_id'] == 4]['Name of the place'].tolist()\n",
        "\n",
        "# Get the BERT-based recommendations for user_id = 3\n",
        "recommended_places = bert_based_recommendations(user_id=4, top_n=5)\n",
        "\n",
        "# Calculate accuracy\n",
        "if recommended_places != f\"No data for user_id {user_id}\":\n",
        "    # Calculate the intersection between recommended and ground truth places\n",
        "    correct_recommendations = set(recommended_places) & set(ground_truth_places)\n",
        "    accuracy = len(correct_recommendations) / len(recommended_places) if recommended_places else 0\n",
        "else:\n",
        "    accuracy = 0\n",
        "\n",
        "print(f\"Accuracy for BERT-based recommendations for user 3: {accuracy:.2f}\")"
      ],
      "metadata": {
        "colab": {
          "base_uri": "https://localhost:8080/"
        },
        "id": "uxOalN6D1-FD",
        "outputId": "a8ea3275-a89a-4269-aa51-81218c200d9a"
      },
      "execution_count": null,
      "outputs": [
        {
          "output_type": "stream",
          "name": "stdout",
          "text": [
            "Accuracy for BERT-based recommendations for user 3: 0.40\n"
          ]
        }
      ]
    },
    {
      "cell_type": "markdown",
      "source": [
        "# **Alternating Least Squares**"
      ],
      "metadata": {
        "id": "4OECzmKb351O"
      }
    },
    {
      "cell_type": "code",
      "execution_count": null,
      "metadata": {
        "colab": {
          "base_uri": "https://localhost:8080/"
        },
        "id": "y2WO6WAwokgy",
        "outputId": "dfd46301-6be5-4d7a-da48-b8f9f9ae6447"
      },
      "outputs": [
        {
          "output_type": "stream",
          "name": "stdout",
          "text": [
            "ALS Recommendations: ['Kumarakom Bird Sanctuary', 'Delhi Haat', 'Rashtrapati Bhavan', 'Nahan Hill Station', 'Nainital Lake']\n"
          ]
        }
      ],
      "source": [
        "# Dummy ALS Recommendations Function\n",
        "def als_recommendations(user_id, top_n=5):\n",
        "    # Placeholder for ALS model recommendation output\n",
        "    # Here, we simply return the first top_n unique Type of Place IDs the user has not rated\n",
        "    if user_id not in user_item_matrix.index:\n",
        "        return f\"No data for user_id {user_id}\"\n",
        "\n",
        "    # Get the user's interactions\n",
        "    user_interactions = user_item_matrix.loc[user_id]\n",
        "\n",
        "    # Recommend items the user hasn't rated (ratings == 0)\n",
        "    als_recommendations = user_interactions[user_interactions == 0].index.tolist()[:top_n]\n",
        "\n",
        "    # Convert Type of Place IDs to Place Names\n",
        "    place_names = [type_to_name_map.get(place_type, 'Unknown Place') for place_type in als_recommendations]\n",
        "\n",
        "    return place_names\n",
        "\n",
        "# Example usage\n",
        "user_id = 3  # Replace with the actual user ID\n",
        "top_n = 5  # Number of recommendations\n",
        "print(\"ALS Recommendations:\", als_recommendations(user_id, top_n))"
      ]
    },
    {
      "cell_type": "code",
      "source": [
        "# Load the ground truth data (test.csv)\n",
        "test_df = pd.read_csv('/content/test.csv')\n",
        "\n",
        "# Get the ground truth places for user_id = 3\n",
        "ground_truth_places = test_df[test_df['user_id'] == 3]['Name of the place'].tolist()\n",
        "\n",
        "# Get the BERT-based recommendations for user_id = 3\n",
        "recommended_places = bert_based_recommendations(user_id=3, top_n=5)\n",
        "\n",
        "# Calculate accuracy\n",
        "if recommended_places != f\"No data for user_id {user_id}\":\n",
        "    # Calculate the intersection between recommended and ground truth places\n",
        "    correct_recommendations = set(recommended_places) & set(ground_truth_places)\n",
        "    accuracy = len(correct_recommendations) / len(recommended_places) if recommended_places else 0\n",
        "else:\n",
        "    accuracy = 0\n",
        "\n",
        "print(f\"Accuracy for ALS recommendations for user 3: {accuracy:.2f}\")"
      ],
      "metadata": {
        "colab": {
          "base_uri": "https://localhost:8080/"
        },
        "id": "x8T_jsLQ3D3z",
        "outputId": "a9f23e1f-6d61-4385-ad9b-2f3606c0bf5b"
      },
      "execution_count": null,
      "outputs": [
        {
          "output_type": "stream",
          "name": "stdout",
          "text": [
            "Accuracy for ALS recommendations for user 3: 0.20\n"
          ]
        }
      ]
    },
    {
      "cell_type": "code",
      "source": [
        "import matplotlib.pyplot as plt\n",
        "\n",
        "# Data: model names and their accuracies\n",
        "models = ['ALS', 'DistilBERT-Based Recommendations', 'Hybrid']\n",
        "accuracies = [0.2, 0.4, 0.93]  # Example accuracies for the models\n",
        "\n",
        "# Create the bar chart\n",
        "plt.figure(figsize=(10, 6))  # Set the figure size\n",
        "plt.bar(models, accuracies, color=['blue', 'green', 'orange'])  # Bar chart\n",
        "\n",
        "# Add labels and title\n",
        "plt.xlabel('Model Name', fontsize=12)  # X-axis label\n",
        "plt.ylabel('Accuracy', fontsize=12)   # Y-axis label\n",
        "plt.title('Model Accuracies Comparison', fontsize=14)  # Title\n",
        "\n",
        "# Add value labels on top of each bar\n",
        "for i, acc in enumerate(accuracies):\n",
        "    plt.text(i, acc + 0.01, f'{acc:.2f}', ha='center', fontsize=10)\n",
        "\n",
        "# Show the plot\n",
        "plt.ylim(0, 1)  # Set y-axis limits (0 to 1 for accuracy values)\n",
        "plt.grid(axis='y', linestyle='--', alpha=0.7)  # Add gridlines for better readability\n",
        "plt.show()"
      ],
      "metadata": {
        "colab": {
          "base_uri": "https://localhost:8080/",
          "height": 569
        },
        "id": "W1HjzOswXpCc",
        "outputId": "a59ae27c-5d61-4ff9-89e9-81974ea00d8d"
      },
      "execution_count": null,
      "outputs": [
        {
          "output_type": "display_data",
          "data": {
            "text/plain": [
              "<Figure size 1000x600 with 1 Axes>"
            ],
            "image/png": "[encoded data removed]"
          },
          "metadata": {}
        }
      ]
    },
    {
      "cell_type": "code",
      "source": [],
      "metadata": {
        "id": "O3K0xg9XYz9Z"
      },
      "execution_count": null,
      "outputs": []
    }
  ],
  "metadata": {
    "colab": {
      "provenance": []
    },
    "kernelspec": {
      "display_name": "Python 3",
      "name": "python3"
    },
    "language_info": {
      "name": "python"
    }
  },
  "nbformat": 4,
  "nbformat_minor": 0
}